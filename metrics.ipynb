{
 "cells": [
  {
   "cell_type": "code",
   "execution_count": 5,
   "metadata": {},
   "outputs": [],
   "source": [
    "import argparse\n",
    "import glob\n",
    "import os\n",
    "import shutil\n",
    "import sys\n",
    "from PIL import Image\n",
    "import numpy as np\n",
    "import cv2"
   ]
  },
  {
   "cell_type": "code",
   "execution_count": 6,
   "metadata": {},
   "outputs": [],
   "source": [
    "from metrics import calculate_metrics, draw_bounding_boxes_truth_pred"
   ]
  },
  {
   "cell_type": "code",
   "execution_count": 7,
   "metadata": {},
   "outputs": [],
   "source": [
    "dict_name = {0 : 'bouchon_casse', 1 : 'trou', 2 : 'deforme', 3 : 'delamine'}"
   ]
  },
  {
   "cell_type": "code",
   "execution_count": 8,
   "metadata": {},
   "outputs": [
    {
     "name": "stdout",
     "output_type": "stream",
     "text": [
      "Save folder /home/psycle/PsycleResearch/Object-Detection-Metrics/results\n",
      "Save folder /home/psycle/PsycleResearch/Object-Detection-Metrics/results\n",
      "Save folder /home/psycle/PsycleResearch/Object-Detection-Metrics/results\n",
      "AP: 100.00% (0)\n",
      "AP: 60.00% (2)\n",
      "AP: 50.00% (3)\n",
      "mAP: 70.00%\n"
     ]
    },
    {
     "data": {
      "image/png": "[encoded data removed]",
      "text/plain": [
       "<Figure size 432x288 with 1 Axes>"
      ]
     },
     "metadata": {
      "needs_background": "light"
     },
     "output_type": "display_data"
    }
   ],
   "source": [
    "calculate_metrics(dict_name, gtFolder='/home/psycle/PsycleResearch/Object-Detection-Metrics/groundtruths', \n",
    "                  detFolder='/home/psycle/PsycleResearch/Object-Detection-Metrics/detections', iouThreshold=0.3, showPlot=False, gtCoordinates='rel', detCoordinates='rel',\n",
    "                      imgSize='540,540', savePath='/home/psycle/PsycleResearch/Object-Detection-Metrics/results')"
   ]
  },
  {
   "cell_type": "code",
   "execution_count": 6,
   "metadata": {},
   "outputs": [],
   "source": [
    "draw_bounding_boxes_truth_pred(dict_name, '/home/psycle/PsycleResearch/Object-Detection-Metrics/groundtruths',\n",
    "                               '/home/psycle/PsycleResearch/Object-Detection-Metrics/groundtruths', \n",
    "                               '/home/psycle/PsycleResearch/Object-Detection-Metrics/results/images', \n",
    "                               '/home/psycle/PsycleResearch/Object-Detection-Metrics/detections')"
   ]
  },
  {
   "cell_type": "code",
   "execution_count": 2,
   "metadata": {},
   "outputs": [],
   "source": [
    "################################################################################"
   ]
  },
  {
   "cell_type": "code",
   "execution_count": 2,
   "metadata": {},
   "outputs": [],
   "source": [
    "# def get_label_name(index=None, return_dict=False):\n",
    "#     dict_name = {\n",
    "#         0: \"perce\",\n",
    "#         1: \"casse\",\n",
    "#         2: \"deforme\",\n",
    "#         3: \"corps_etranger_dans\",\n",
    "#         4: \"corps_etranger_sur\",\n",
    "#         5: \"produit_dans_cordon\"}\n",
    "#     if index == None:\n",
    "#         print(dict_name)\n",
    "#         if return_dict:\n",
    "#             return dict_name\n",
    "#     else:\n",
    "#         return dict_name[index]\n",
    "def get_label_name(index=None, return_dict=False):\n",
    "    dict_name = {\n",
    "        0: \"bouchon_casse\",\n",
    "        1: \"trou\",\n",
    "        2: \"deforme\",\n",
    "        3: \"delamine\"}\n",
    "        # 4: \"corps_etranger_sur\"}\n",
    "        # 5: \"produit_dans_cordon\"}\n",
    "    if index == None:\n",
    "        print(dict_name)\n",
    "        if return_dict:\n",
    "            return dict_name\n",
    "    else:\n",
    "        return dict_name[index]"
   ]
  },
  {
   "cell_type": "code",
   "execution_count": 3,
   "metadata": {},
   "outputs": [],
   "source": [
    "def convertToAbsoluteValues(size, box):\n",
    "    # w_box = round(size[0] * box[2])\n",
    "    # h_box = round(size[1] * box[3])\n",
    "    xIn = round(((2 * float(box[0]) - float(box[2])) * size[0] / 2))\n",
    "    yIn = round(((2 * float(box[1]) - float(box[3])) * size[1] / 2))\n",
    "    xEnd = xIn + round(float(box[2]) * size[0])\n",
    "    yEnd = yIn + round(float(box[3]) * size[1])\n",
    "    if xIn < 0:\n",
    "        xIn = 0\n",
    "    if yIn < 0:\n",
    "        yIn = 0\n",
    "    if xEnd >= size[0]:\n",
    "        xEnd = size[0] - 1\n",
    "    if yEnd >= size[1]:\n",
    "        yEnd = size[1] - 1\n",
    "    return (xIn, yIn, xEnd, yEnd)"
   ]
  },
  {
   "cell_type": "code",
   "execution_count": 4,
   "metadata": {},
   "outputs": [],
   "source": [
    "def add_bb_into_image(image, bb, color=(255, 0, 0), thickness=2, label=None):\n",
    "    size = (image.shape[1], image.shape[0])\n",
    "    x1, y1, x2, y2 = convertToAbsoluteValues(size, bb)\n",
    "    r = int(color[0])\n",
    "    g = int(color[1])\n",
    "    b = int(color[2])\n",
    "    font = cv2.FONT_HERSHEY_SIMPLEX\n",
    "    fontScale = 0.5\n",
    "    fontThickness = 1\n",
    "    cv2.rectangle(image, (x1, y1), (x2, y2), (b, g, r), thickness)\n",
    "    # Add label\n",
    "    if label is not None:\n",
    "        # Get size of the text box\n",
    "        (tw, th) = cv2.getTextSize(label, font, fontScale, fontThickness)[0]\n",
    "        # Top-left coord of the textbox\n",
    "        (xin_bb, yin_bb) = (x1 + thickness, y1 - th + int(12.5 * fontScale))\n",
    "        # Checking position of the text top-left (outside or inside the bb)\n",
    "        if yin_bb - th <= 0:  # if outside the image\n",
    "            yin_bb = y1 + th  # put it inside the bb\n",
    "        r_Xin = x1 - int(thickness / 2)\n",
    "        r_Yin = y1 - th - int(thickness / 2)\n",
    "        # Draw filled rectangle to put the text in it\n",
    "        cv2.rectangle(image, (r_Xin, r_Yin - thickness),\n",
    "                      (r_Xin + tw + thickness * 3, r_Yin + th + int(12.5 * fontScale)), (b, g, r),\n",
    "                      -1)\n",
    "        cv2.putText(image, label, (xin_bb, yin_bb), font, fontScale, (0, 0, 0), fontThickness,\n",
    "                    cv2.LINE_AA)\n",
    "    return image"
   ]
  },
  {
   "cell_type": "code",
   "execution_count": 5,
   "metadata": {},
   "outputs": [],
   "source": [
    "img_folder = 'groundtruths'\n",
    "gt_annotations = 'groundtruths'\n",
    "prediction_annotations = 'detections'\n",
    "results = 'results'"
   ]
  },
  {
   "cell_type": "code",
   "execution_count": 6,
   "metadata": {},
   "outputs": [],
   "source": [
    "def draw_boxes(annotations, img_folder, results, isGT=True):\n",
    "    files = glob.glob(f\"{annotations}/*.txt\")\n",
    "    #Extract bboxes\n",
    "    for f in files:\n",
    "        nameOfImage = f.replace(\".txt\", \"\").split('/')[1]\n",
    "        if isGT:\n",
    "            image = np.array(Image.open(f'{img_folder}/{nameOfImage}.jpg'))\n",
    "        else:\n",
    "            image = np.array(Image.open(f'{results}/{nameOfImage}.jpg'))\n",
    "        fh1 = open(f, \"r\")\n",
    "        for line in fh1:\n",
    "            line = line.replace(\"\\n\", \"\")\n",
    "            if line.replace(' ', '') == '':\n",
    "                continue\n",
    "            splitLine = line.split(\" \")\n",
    "            if isGT:\n",
    "                # idClass = int(splitLine[0]) #class\n",
    "                idClass = (splitLine[0])  # class\n",
    "                x = float(splitLine[1])\n",
    "                y = float(splitLine[2])\n",
    "                w = float(splitLine[3])\n",
    "                h = float(splitLine[4])\n",
    "                img = add_bb_into_image(image, [x,y,w,h], \n",
    "                    color=(255, 0, 0), thickness=2, label=get_label_name(int(idClass),return_dict=None))\n",
    "            else:\n",
    "                idClass = (splitLine[0])  # class\n",
    "                confidence = float(splitLine[1])\n",
    "                x = float(splitLine[2])\n",
    "                y = float(splitLine[3])\n",
    "                w = float(splitLine[4])\n",
    "                h = float(splitLine[5])\n",
    "                img = add_bb_into_image(image, [x,y,w,h], color=(0, 0, 255), thickness=2, \n",
    "                                        label=get_label_name(int(idClass),return_dict=None))\n",
    "        Image.fromarray(img).save(f'{results}/{nameOfImage}.jpg')\n",
    "        fh1.close()"
   ]
  },
  {
   "cell_type": "code",
   "execution_count": 7,
   "metadata": {},
   "outputs": [],
   "source": [
    "draw_boxes(gt_annotations, img_folder, results, isGT=True)\n",
    "draw_boxes(prediction_annotations, img_folder, results, isGT=False)"
   ]
  },
  {
   "cell_type": "code",
   "execution_count": 8,
   "metadata": {},
   "outputs": [],
   "source": [
    "def add_legend(results):\n",
    "    font = cv2.FONT_HERSHEY_SIMPLEX \n",
    "    fontScale = 1\n",
    "    color_pred = (255, 0, 0)\n",
    "    color_truth = (0, 0, 255) \n",
    "    thickness = 2\n",
    "    images = glob.glob(f\"{results}/*.jpg\")\n",
    "    for image_path in images:\n",
    "        image = np.array(Image.open(image_path))\n",
    "        org_truth = (image.shape[1]-200, 100)\n",
    "        org_pred = (image.shape[1]-200, 150)\n",
    "        cv2.putText(image, 'Pred', org_pred, font,  \n",
    "                   fontScale, color_pred, thickness, cv2.LINE_AA) \n",
    "        cv2.putText(image, 'Verite', org_truth, font,  \n",
    "                   fontScale, color_truth, thickness, cv2.LINE_AA) \n",
    "        Image.fromarray(image).save(image_path)"
   ]
  },
  {
   "cell_type": "code",
   "execution_count": 9,
   "metadata": {},
   "outputs": [],
   "source": [
    "add_legend(results)"
   ]
  }
 ],
 "metadata": {
  "kernelspec": {
   "display_name": "Python 3",
   "language": "python",
   "name": "python3"
  },
  "language_info": {
   "codemirror_mode": {
    "name": "ipython",
    "version": 3
   },
   "file_extension": ".py",
   "mimetype": "text/x-python",
   "name": "python",
   "nbconvert_exporter": "python",
   "pygments_lexer": "ipython3",
   "version": "3.6.9"
  }
 },
 "nbformat": 4,
 "nbformat_minor": 4
}
